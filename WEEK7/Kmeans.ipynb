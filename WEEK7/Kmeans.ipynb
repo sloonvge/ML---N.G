{
 "cells": [
  {
   "cell_type": "code",
   "execution_count": 192,
   "metadata": {
    "collapsed": false
   },
   "outputs": [],
   "source": [
    "import scipy.io as sio\n",
    "import numpy as np\n",
    "import matplotlib.pyplot as plt\n",
    "import scipy.spatial.distance as dist"
   ]
  },
  {
   "cell_type": "code",
   "execution_count": 193,
   "metadata": {
    "collapsed": false
   },
   "outputs": [],
   "source": [
    "data2 = sio.loadmat('ex7data2.mat')\n",
    "X = data2['X']"
   ]
  },
  {
   "cell_type": "code",
   "execution_count": 194,
   "metadata": {
    "collapsed": false
   },
   "outputs": [],
   "source": [
    "K = 3\n",
    "initial_centroids = np.array([[3, 3],\n",
    "                              [6, 2], \n",
    "                              [8, 5]])\n",
    "max_iter = 10"
   ]
  },
  {
   "cell_type": "code",
   "execution_count": 195,
   "metadata": {
    "collapsed": false
   },
   "outputs": [],
   "source": [
    "def findClosestCentroids(X, centroids):\n",
    "    K = centroids.shape[0]\n",
    "    idx = np.zeros((X.shape[0], 1))\n",
    "    for i in range(len(idx)):\n",
    "        distance = dist.cdist(centroids, X[i:i+1, :]) \n",
    "        idx[i] = distance.argmin()\n",
    "    return idx"
   ]
  },
  {
   "cell_type": "code",
   "execution_count": 196,
   "metadata": {
    "collapsed": false
   },
   "outputs": [
    {
     "name": "stdout",
     "output_type": "stream",
     "text": [
      "[[ 0.]\n",
      " [ 2.]\n",
      " [ 1.]]\n"
     ]
    }
   ],
   "source": [
    "idx = findClosestCentroids(X, initial_centroids)\n",
    "print(idx[0:3])"
   ]
  },
  {
   "cell_type": "code",
   "execution_count": 199,
   "metadata": {
    "collapsed": false
   },
   "outputs": [],
   "source": [
    "#compute means\n",
    "def computeCentroids(X, idx, K):\n",
    "    m, n = X.shape\n",
    "    centroids = np.zeros((K, n))\n",
    "    for i in range(K):\n",
    "        centroids[i:i+1, :] = X[np.where(idx==i)[0]].mean(0)\n",
    "    return centroids\n",
    "centroids = computeCentroids(X, idx, K)"
   ]
  },
  {
   "cell_type": "code",
   "execution_count": 200,
   "metadata": {
    "collapsed": false
   },
   "outputs": [
    {
     "data": {
      "text/plain": [
       "array([[ 2.42830111,  3.15792418],\n",
       "       [ 5.81350331,  2.63365645],\n",
       "       [ 7.11938687,  3.6166844 ]])"
      ]
     },
     "execution_count": 200,
     "metadata": {},
     "output_type": "execute_result"
    }
   ],
   "source": [
    "centroids"
   ]
  },
  {
   "cell_type": "code",
   "execution_count": 260,
   "metadata": {
    "collapsed": false
   },
   "outputs": [
    {
     "data": {
      "image/png": "[encoded data removed]",
      "text/plain": [
       "<matplotlib.figure.Figure at 0x2037798e4a8>"
      ]
     },
     "metadata": {},
     "output_type": "display_data"
    }
   ],
   "source": [
    "def plotProgress(X, centroids, idx, K, centroids_pre):\n",
    "    \n",
    "    ax1 = plt.subplot(111)\n",
    "    color = ['g', 'b', 'y']\n",
    "    for i in range(K):\n",
    "        X_i = X[np.where(idx==i)[0]]\n",
    "        ax1.scatter(X_i[:, 0], X_i[:, 1], c=color[i])\n",
    "    #ax1.scatter(centroids[:, 0], centroids[:, 1], marker='x', c='r')\n",
    "        ax1.plot([centroids[i,0],centroids_pre[i, 0]], [centroids[i,1],centroids_pre[i, 1]], 'r-x')\n",
    "    #plt.pause()\n",
    "    #plt.show()\n",
    "plotProgress(X, centroids, idx, K, centroids)\n",
    "    "
   ]
  },
  {
   "cell_type": "code",
   "execution_count": 310,
   "metadata": {
    "collapsed": false
   },
   "outputs": [],
   "source": [
    "#K-means clustering\n",
    "def Kmeans(X, initial_centroids, max_iter):\n",
    "    \n",
    "    #initial value\n",
    "    \n",
    "    m, n = X.shape\n",
    "    K = initial_centroids.shape[0]\n",
    "    centroids = initial_centroids\n",
    "    centroids_pre = centroids\n",
    "    idx = np.zeros((m, 1))\n",
    "    \n",
    "    #k-means\n",
    "    for i in range(max_iter):\n",
    "        idx = findClosestCentroids(X, centroids)\n",
    "        centroids_pre = centroids\n",
    "        centroids = computeCentroids(X, idx, K)\n",
    "        #plotProgress(X, centroids, idx, K, centroids_pre)\n",
    "        #print(centroids)\n",
    "    plt.show()\n",
    "    return centroids, idx"
   ]
  },
  {
   "cell_type": "code",
   "execution_count": 261,
   "metadata": {
    "collapsed": false
   },
   "outputs": [
    {
     "data": {
      "image/png": "[encoded data removed]",
      "text/plain": [
       "<matplotlib.figure.Figure at 0x20378db7f60>"
      ]
     },
     "metadata": {},
     "output_type": "display_data"
    }
   ],
   "source": [
    "centroids, idx = Kmeans(X, initial_centroids, max_iter)"
   ]
  },
  {
   "cell_type": "code",
   "execution_count": 259,
   "metadata": {
    "collapsed": false
   },
   "outputs": [
    {
     "data": {
      "text/plain": [
       "array([[ 1.95399466,  5.02557006],\n",
       "       [ 3.04367119,  1.01541041],\n",
       "       [ 6.03366736,  3.00052511]])"
      ]
     },
     "execution_count": 259,
     "metadata": {},
     "output_type": "execute_result"
    }
   ],
   "source": [
    "centroids"
   ]
  },
  {
   "cell_type": "code",
   "execution_count": 263,
   "metadata": {
    "collapsed": false
   },
   "outputs": [],
   "source": [
    "bird = sio.loadmat('bird_small.mat')\n",
    "A = bird['A']"
   ]
  },
  {
   "cell_type": "code",
   "execution_count": 264,
   "metadata": {
    "collapsed": false
   },
   "outputs": [],
   "source": [
    "A = A/255"
   ]
  },
  {
   "cell_type": "code",
   "execution_count": 269,
   "metadata": {
    "collapsed": false
   },
   "outputs": [],
   "source": [
    "A=A.reshape(A.shape[0]*A.shape[1], A.shape[2])"
   ]
  },
  {
   "cell_type": "code",
   "execution_count": 301,
   "metadata": {
    "collapsed": false
   },
   "outputs": [],
   "source": [
    "K = 16\n",
    "max_iter = 10"
   ]
  },
  {
   "cell_type": "code",
   "execution_count": 307,
   "metadata": {
    "collapsed": false
   },
   "outputs": [],
   "source": [
    "def initCentroids(X, K):\n",
    "    m, n = X.shape\n",
    "    centroids = np.zeros((K, n))\n",
    "    rand_index = np.random.choice(m, K)\n",
    "    centroids = X[rand_index]\n",
    "    return centroids"
   ]
  },
  {
   "cell_type": "code",
   "execution_count": 308,
   "metadata": {
    "collapsed": false
   },
   "outputs": [
    {
     "data": {
      "text/plain": [
       "array([[ 0.70196078,  0.54509804,  0.50980392],\n",
       "       [ 0.3372549 ,  0.38823529,  0.38431373],\n",
       "       [ 0.65098039,  0.57254902,  0.22745098],\n",
       "       [ 0.0627451 ,  0.0745098 ,  0.07058824],\n",
       "       [ 0.65882353,  0.50196078,  0.45098039],\n",
       "       [ 1.        ,  0.89019608,  0.8627451 ],\n",
       "       [ 0.13333333,  0.14901961,  0.14901961],\n",
       "       [ 0.17647059,  0.18039216,  0.23137255],\n",
       "       [ 0.06666667,  0.07058824,  0.06666667],\n",
       "       [ 0.35294118,  0.40784314,  0.34901961],\n",
       "       [ 0.1254902 ,  0.1254902 ,  0.11764706],\n",
       "       [ 0.57254902,  0.41568627,  0.16862745],\n",
       "       [ 0.51372549,  0.54901961,  0.49411765],\n",
       "       [ 0.75294118,  0.69411765,  0.66666667],\n",
       "       [ 0.0745098 ,  0.07843137,  0.0745098 ],\n",
       "       [ 0.96862745,  0.70588235,  0.48235294]])"
      ]
     },
     "execution_count": 308,
     "metadata": {},
     "output_type": "execute_result"
    }
   ],
   "source": [
    "initial_cent = initCentroids(A, K)\n",
    "initial_cent"
   ]
  },
  {
   "cell_type": "code",
   "execution_count": 311,
   "metadata": {
    "collapsed": false
   },
   "outputs": [],
   "source": [
    "centroids_bird, idx_bird = Kmeans(A, initial_cent, max_iter)"
   ]
  },
  {
   "cell_type": "code",
   "execution_count": 314,
   "metadata": {
    "collapsed": false
   },
   "outputs": [],
   "source": [
    "idxs = findClosestCentroids(A, centroids_bird)"
   ]
  },
  {
   "cell_type": "code",
   "execution_count": 368,
   "metadata": {
    "collapsed": false
   },
   "outputs": [],
   "source": [
    "X_change = centroids_bird[idxs.astype(np.uint8), :]\n",
    "X_change = X_change.reshape(128,128,3)\n",
    "X_change = (X_change*255).astype(np.uint8)"
   ]
  },
  {
   "cell_type": "code",
   "execution_count": 346,
   "metadata": {
    "collapsed": false
   },
   "outputs": [],
   "source": [
    "from PIL import Image\n"
   ]
  },
  {
   "cell_type": "code",
   "execution_count": 369,
   "metadata": {
    "collapsed": false
   },
   "outputs": [
    {
     "data": {
      "image/png": "[encoded data removed]",
      "text/plain": [
       "<PIL.Image.Image image mode=RGB size=128x128 at 0x2036CF66CC0>"
      ]
     },
     "execution_count": 369,
     "metadata": {},
     "output_type": "execute_result"
    }
   ],
   "source": [
    "Image.fromarray((X_change))"
   ]
  },
  {
   "cell_type": "code",
   "execution_count": null,
   "metadata": {
    "collapsed": false
   },
   "outputs": [],
   "source": []
  },
  {
   "cell_type": "code",
   "execution_count": null,
   "metadata": {
    "collapsed": false
   },
   "outputs": [],
   "source": []
  },
  {
   "cell_type": "code",
   "execution_count": null,
   "metadata": {
    "collapsed": true
   },
   "outputs": [],
   "source": []
  }
 ],
 "metadata": {
  "anaconda-cloud": {},
  "kernelspec": {
   "display_name": "Python [conda root]",
   "language": "python",
   "name": "conda-root-py"
  },
  "language_info": {
   "codemirror_mode": {
    "name": "ipython",
    "version": 3
   },
   "file_extension": ".py",
   "mimetype": "text/x-python",
   "name": "python",
   "nbconvert_exporter": "python",
   "pygments_lexer": "ipython3",
   "version": "3.5.2"
  }
 },
 "nbformat": 4,
 "nbformat_minor": 1
}
