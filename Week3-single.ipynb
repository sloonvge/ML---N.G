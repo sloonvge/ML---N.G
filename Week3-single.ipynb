{
 "cells": [
  {
   "cell_type": "code",
   "execution_count": 1,
   "metadata": {
    "collapsed": false
   },
   "outputs": [],
   "source": [
    "import numpy as np\n",
    "import matplotlib.pyplot as plt\n",
    "import scipy.optimize as op\n"
   ]
  },
  {
   "cell_type": "code",
   "execution_count": 60,
   "metadata": {
    "collapsed": false
   },
   "outputs": [],
   "source": [
    "filename = 'ex2data2.txt'\n",
    "data = np.loadtxt(filename, delimiter=',')#b=np.linalg.inv(a)\n"
   ]
  },
  {
   "cell_type": "code",
   "execution_count": 15,
   "metadata": {
    "collapsed": false
   },
   "outputs": [
    {
     "data": {
      "image/png": "[encoded data removed]",
      "text/plain": [
       "<matplotlib.figure.Figure at 0x287e87cddd8>"
      ]
     },
     "metadata": {},
     "output_type": "display_data"
    }
   ],
   "source": [
    "#plt data\n",
    "#from mpl_toolkits.mplot3d import Axes3D\n",
    "#ax = plt.subplot(111, projection='3d')\n",
    "ax = plt.subplot(111)\n",
    "X_0 = data[np.where(data==0)[0]]\n",
    "X_1 = data[np.where(data==1)[0]]\n",
    "ax.scatter(X_0[:,0:1], X_0[:, 1:2], marker = 'x', c='r', label='y=0')\n",
    "ax.scatter(X_1[:,0:1], X_1[:, 1:2], marker = 'o',c='b', label='y=1')\n",
    "plt.legend(loc=0)\n",
    "plt.xlabel('test 1')\n",
    "plt.ylabel('test 2')\n",
    "plt.show()"
   ]
  },
  {
   "cell_type": "code",
   "execution_count": 16,
   "metadata": {
    "collapsed": false
   },
   "outputs": [],
   "source": [
    "X_no1 = data[:,0:2]\n",
    "y = data[:, 2:]"
   ]
  },
  {
   "cell_type": "code",
   "execution_count": 51,
   "metadata": {
    "collapsed": false
   },
   "outputs": [],
   "source": [
    "def mapfeature(X, degree):\n",
    "    insert_1 = np.ones((X.shape[0], 1))\n",
    "    for i in range(1, degree+1):\n",
    "        for j in range(i+1):\n",
    "            X_change = (X[:, 0:1]**j)*(X[:, 1:2]**(i-j))\n",
    "            insert_1 = np.c_[insert_1, X_change]\n",
    "            \n",
    "    return insert_1\n",
    "X = mapfeature(X_no1, 4)"
   ]
  },
  {
   "cell_type": "code",
   "execution_count": 52,
   "metadata": {
    "collapsed": false
   },
   "outputs": [],
   "source": [
    "theta = np.zeros((X.shape[1], 1))"
   ]
  },
  {
   "cell_type": "code",
   "execution_count": 53,
   "metadata": {
    "collapsed": false
   },
   "outputs": [],
   "source": [
    "def sigmoid(theta, X):\n",
    "    z = X.dot(theta)\n",
    "    g = 1/(1+np.exp(-z))\n",
    "    return g"
   ]
  },
  {
   "cell_type": "code",
   "execution_count": 54,
   "metadata": {
    "collapsed": false
   },
   "outputs": [],
   "source": [
    "def costfunction(theta, X, y):\n",
    "    m = len(y)\n",
    "    h = sigmoid(theta, X)\n",
    "    J = 1/m*(-y.T.dot(np.log(h))-(1-y).T.dot(np.log(1-h)))\n",
    "    return J"
   ]
  },
  {
   "cell_type": "code",
   "execution_count": 55,
   "metadata": {
    "collapsed": false
   },
   "outputs": [
    {
     "data": {
      "text/plain": [
       "array([[ 0.69314718]])"
      ]
     },
     "execution_count": 55,
     "metadata": {},
     "output_type": "execute_result"
    }
   ],
   "source": [
    "costfunction(theta, X, y)"
   ]
  },
  {
   "cell_type": "code",
   "execution_count": 56,
   "metadata": {
    "collapsed": true
   },
   "outputs": [],
   "source": [
    "def gradientdescent(theta, X, y):\n",
    "    m = len(X)\n",
    "    h = sigmoid(theta, X)\n",
    "    grad = 1/m*(X.T.dot(h-y))\n",
    "    return grad.flatten()\n",
    "    "
   ]
  },
  {
   "cell_type": "code",
   "execution_count": 57,
   "metadata": {
    "collapsed": false
   },
   "outputs": [
    {
     "data": {
      "text/plain": [
       "array([ 4.06833382,  4.98895973,  2.46306844, -7.03914675, -5.79573882,\n",
       "       -6.46187144, -1.53592921, -1.46148886, -4.12687277,  0.90675667,\n",
       "       -4.75989069, -2.4811355 , -1.37517752,  1.80785309, -6.12531515])"
      ]
     },
     "execution_count": 57,
     "metadata": {},
     "output_type": "execute_result"
    }
   ],
   "source": [
    "result = op.minimize(fun=costfunction, x0=theta, args=(X, y), method='TNC')# jac=gradent)\n",
    "theta_optim = result.x\n",
    "theta_optim"
   ]
  },
  {
   "cell_type": "code",
   "execution_count": 58,
   "metadata": {
    "collapsed": false
   },
   "outputs": [
    {
     "name": "stderr",
     "output_type": "stream",
     "text": [
      "C:\\Users\\wanmoer\\Anaconda3\\lib\\site-packages\\numpy\\ma\\core.py:6385: MaskedArrayFutureWarning: In the future the default for ma.minimum.reduce will be axis=0, not the current None, to match np.minimum.reduce. Explicitly pass 0 or None to silence this warning.\n",
      "  return self.reduce(a)\n",
      "C:\\Users\\wanmoer\\Anaconda3\\lib\\site-packages\\numpy\\ma\\core.py:6385: MaskedArrayFutureWarning: In the future the default for ma.maximum.reduce will be axis=0, not the current None, to match np.maximum.reduce. Explicitly pass 0 or None to silence this warning.\n",
      "  return self.reduce(a)\n"
     ]
    },
    {
     "data": {
      "image/png": "[encoded data removed]",
      "text/plain": [
       "<matplotlib.figure.Figure at 0x287e9a88a58>"
      ]
     },
     "metadata": {},
     "output_type": "display_data"
    }
   ],
   "source": [
    "#show the data\n",
    "ax1 = plt.subplot(111)\n",
    "X_0 = data[np.where(data==0)[0]]\n",
    "X_1 = data[np.where(data==1)[0]]\n",
    "ax1.scatter(X_0[:,0:1], X_0[:, 1:2], marker = 'x', c='r', label='y=0')\n",
    "ax1.scatter(X_1[:,0:1], X_1[:, 1:2], marker = 'o',c='b', label='y=1')\n",
    "#plt the boundary\n",
    "u = np.linspace(-1, 1.5, 50)\n",
    "v = np.linspace(-1, 1.5, 50)\n",
    "z = np.zeros((len(u), len(v)))\n",
    "for i in range(len(u)):\n",
    "    for j in range(len(v)):\n",
    "        z[i, j] = mapfeature(np.array([[u[i], v[j]]]), 4).dot(theta_optim)\n",
    "\n",
    "ax1.contour(u, v, z, 0)\n",
    "plt.legend(loc=0)\n",
    "plt.xlabel('test 1')\n",
    "plt.ylabel('test 2')\n",
    "plt.show()\n"
   ]
  },
  {
   "cell_type": "code",
   "execution_count": 36,
   "metadata": {
    "collapsed": false
   },
   "outputs": [
    {
     "data": {
      "text/plain": [
       "0.0"
      ]
     },
     "execution_count": 36,
     "metadata": {},
     "output_type": "execute_result"
    }
   ],
   "source": []
  },
  {
   "cell_type": "code",
   "execution_count": 59,
   "metadata": {
    "collapsed": false
   },
   "outputs": [
    {
     "name": "stdout",
     "output_type": "stream",
     "text": [
      "0.85593220339\n"
     ]
    }
   ],
   "source": [
    "#prob = sigmoid(np.array([1,45,85]).dot(optimal_theta))\n",
    "def predict(theta, X):\n",
    "    m = X.shape[0]\n",
    "    p = np.zeros((m, 1))\n",
    "    k = np.where(sigmoid(theta, X) >= 0.5)[0]\n",
    "    p[k]= 1\n",
    "    return p\n",
    "p = predict(theta_optim, X)\n",
    "acc = (p==y).mean()\n",
    "print(acc)"
   ]
  },
  {
   "cell_type": "code",
   "execution_count": null,
   "metadata": {
    "collapsed": false
   },
   "outputs": [],
   "source": []
  },
  {
   "cell_type": "code",
   "execution_count": null,
   "metadata": {
    "collapsed": false
   },
   "outputs": [],
   "source": []
  },
  {
   "cell_type": "code",
   "execution_count": null,
   "metadata": {
    "collapsed": true
   },
   "outputs": [],
   "source": []
  }
 ],
 "metadata": {
  "anaconda-cloud": {},
  "kernelspec": {
   "display_name": "Python [conda root]",
   "language": "python",
   "name": "conda-root-py"
  },
  "language_info": {
   "codemirror_mode": {
    "name": "ipython",
    "version": 3
   },
   "file_extension": ".py",
   "mimetype": "text/x-python",
   "name": "python",
   "nbconvert_exporter": "python",
   "pygments_lexer": "ipython3",
   "version": "3.5.2"
  }
 },
 "nbformat": 4,
 "nbformat_minor": 1
}
