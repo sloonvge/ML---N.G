{
 "cells": [
  {
   "cell_type": "code",
   "execution_count": 2,
   "metadata": {
    "collapsed": true
   },
   "outputs": [],
   "source": [
    "import numpy as np\n",
    "import matplotlib.pyplot as plt\n",
    "import scipy.io as sio"
   ]
  },
  {
   "cell_type": "code",
   "execution_count": 3,
   "metadata": {
    "collapsed": false
   },
   "outputs": [],
   "source": [
    "data1 = sio.loadmat('ex8_movies.mat')\n",
    "R = data1['R']\n",
    "Y = data1['Y']"
   ]
  },
  {
   "cell_type": "code",
   "execution_count": 4,
   "metadata": {
    "collapsed": false
   },
   "outputs": [
    {
     "data": {
      "text/plain": [
       "3.8783185840707963"
      ]
     },
     "execution_count": 4,
     "metadata": {},
     "output_type": "execute_result"
    }
   ],
   "source": [
    "Y[0, R[0, :]==1].mean()"
   ]
  },
  {
   "cell_type": "code",
   "execution_count": 5,
   "metadata": {
    "collapsed": false
   },
   "outputs": [],
   "source": [
    "data2 = sio.loadmat('ex8_movieParams.mat')\n",
    "theta = data2['Theta']\n",
    "X = data2['X']\n",
    "nf = data2['num_features'][0,0]\n",
    "nu = data2['num_users'][0,0]\n",
    "nm = data2['num_movies'][0,0]"
   ]
  },
  {
   "cell_type": "code",
   "execution_count": 6,
   "metadata": {
    "collapsed": false
   },
   "outputs": [],
   "source": [
    "def computeCost(params, Y, R, lamda, nf, nu, nm):\n",
    "    X = params[:nm*nf].reshape(nm, nf)\n",
    "    theta = params[nm*nf:].reshape(nu, nf)\n",
    "    X_grad = np.zeros(X.shape)\n",
    "    theta_grad = np.zeros(theta.shape)\n",
    "    \n",
    "    J_temp = (X.dot(theta.T)-Y)**2\n",
    "    J = (J_temp[R==1].sum())/2 + lamda/2*(theta**2).sum() \\\n",
    "        + lamda/2*(X**2).sum()\n",
    "    \n",
    "    return J\n",
    "def computeGrad(params, Y, R, lamda, nf, nu, nm):\n",
    "    X = params[:nm*nf].reshape(nm, nf)\n",
    "    theta = params[nm*nf:].reshape(nu, nf)\n",
    "    X_grad = np.zeros(X.shape)\n",
    "    theta_grad = np.zeros(theta.shape)\n",
    "    \n",
    "    X_grad = ((X.dot(theta.T)-Y)*R).dot(theta) + lamda*X\n",
    "    theta_grad = ((X.dot(theta.T)-Y)*R).T.dot(X) + lamda*theta\n",
    "    return np.r_[X_grad.flatten(), theta_grad.flatten()]"
   ]
  },
  {
   "cell_type": "code",
   "execution_count": 7,
   "metadata": {
    "collapsed": false
   },
   "outputs": [],
   "source": [
    "J = computeCost(np.r_[X.flatten(), theta.flatten()], Y, R, 0, nf, nu, nm)"
   ]
  },
  {
   "cell_type": "code",
   "execution_count": 8,
   "metadata": {
    "collapsed": false
   },
   "outputs": [
    {
     "name": "stdout",
     "output_type": "stream",
     "text": [
      "lamda = 0,this value should be about 22.22\n",
      " 22.2246037257\n",
      "lamda = 1.5,this value should be about 31.34\n",
      " 31.3440562443\n"
     ]
    }
   ],
   "source": [
    "#test\n",
    "nut, nmt, nft = 4, 5, 3\n",
    "X1 = X[0:nmt,0:nft]\n",
    "theta1 = theta[0:nut,0:nft]\n",
    "Y1 = Y[0:nmt,0:nut]\n",
    "R1 = R[0:nmt,0:nut]\n",
    "\n",
    "#check the cost\n",
    "J = computeCost(np.r_[X1.flatten(), theta1.flatten()],Y1,R1,0, nft, nut, nmt)\n",
    "print(\"lamda = 0,this value should be about 22.22\\n\",J)\n",
    "\n",
    "J2= computeCost(np.r_[X1.flatten(), theta1.flatten()],Y1,R1,1.5, nft, nut, nmt)\n",
    "print(\"lamda = 1.5,this value should be about 31.34\\n\",J2)"
   ]
  },
  {
   "cell_type": "code",
   "execution_count": 9,
   "metadata": {
    "collapsed": false
   },
   "outputs": [],
   "source": [
    "#check gradient\n",
    "def checkCost(lamda=0):\n",
    "    np.random.seed(44)\n",
    "    X_t = np.random.random((4, 3))\n",
    "    theta_t = np.random.random((5, 3))\n",
    "    Y = X_t.dot(theta_t.T)\n",
    "    Y[np.random.rand(*Y.shape)>0.5] = 0\n",
    "    R = np.zeros_like(Y)\n",
    "    R[Y!=0] = 1 \n",
    "    \n",
    "    X = np.random.randn(*X_t.shape)\n",
    "    theta = np.random.randn(*theta_t.shape)\n",
    "    nf = 3\n",
    "    nu = 5\n",
    "    nm = 4\n",
    "    #grad\n",
    "    theta_grad = computeGrad(np.r_[X.flatten(), theta.flatten()], Y, R, lamda, nf, nu, nm)[nm*nf:]\n",
    "    J_test = computeCost(np.r_[X.flatten(), theta.flatten()], Y, R, 1.5, nf, nu, nm)\n",
    "    print(J_test)\n",
    "    #num grad\n",
    "    numgrad = np.zeros(theta_t.flatten().shape)\n",
    "    perturb = np.zeros(theta_t.flatten().shape)\n",
    "    e = 1e-4\n",
    "    J = lambda p: computeCost(p, Y, R, lamda, nf, nu, nm)\n",
    "    for i in range(theta.size):\n",
    "        perturb[i:i+1] = e\n",
    "        loss1 = J(np.r_[X.flatten(), theta.flatten()-perturb])\n",
    "        loss2 = J(np.r_[X.flatten(), theta.flatten()+perturb])\n",
    "        numgrad[i:i+1] = (loss2-loss1)/(2*e)\n",
    "        perturb[i:i+1] = 0\n",
    "    dice = np.linalg.norm(numgrad.flatten()-theta_grad)/np.linalg.norm(numgrad.flatten()+theta_grad)\n",
    "    print(dice)\n",
    "    return numgrad, theta_grad"
   ]
  },
  {
   "cell_type": "code",
   "execution_count": 10,
   "metadata": {
    "collapsed": false
   },
   "outputs": [
    {
     "name": "stdout",
     "output_type": "stream",
     "text": [
      "22.9010753253\n",
      "9.59267737147e-13\n"
     ]
    },
    {
     "data": {
      "text/plain": [
       "(array([-0.05325967, -0.12562019, -0.62648596,  0.02506604, -0.69649836,\n",
       "         0.40062249,  0.35024053,  1.24076044,  4.02004181,  0.15252736,\n",
       "         1.42006358,  1.5635142 ,  0.26312911,  1.67984048,  2.86109063]),\n",
       " array([-0.05325967, -0.12562019, -0.62648596,  0.02506604, -0.69649836,\n",
       "         0.40062249,  0.35024053,  1.24076044,  4.02004181,  0.15252736,\n",
       "         1.42006358,  1.5635142 ,  0.26312911,  1.67984048,  2.86109063]))"
      ]
     },
     "execution_count": 10,
     "metadata": {},
     "output_type": "execute_result"
    }
   ],
   "source": [
    "checkCost()"
   ]
  },
  {
   "cell_type": "code",
   "execution_count": null,
   "metadata": {
    "collapsed": false
   },
   "outputs": [],
   "source": []
  },
  {
   "cell_type": "code",
   "execution_count": 11,
   "metadata": {
    "collapsed": false
   },
   "outputs": [],
   "source": [
    "def loadMovies(file):\n",
    "    with open(file, encoding='utf-8', errors='ignore') as f:\n",
    "        movielist = []\n",
    "        for line in f:\n",
    "            line_sp = line.strip().split(' ')\n",
    "            name = ''\n",
    "            for i in range(len(line_sp)):\n",
    "                if i == 0:\n",
    "                    continue\n",
    "                name = name + line_sp[i] + ' '\n",
    "            movielist.append(name)   \n",
    "    return movielist\n",
    "movieList = loadMovies('movie_ids.txt')"
   ]
  },
  {
   "cell_type": "code",
   "execution_count": 12,
   "metadata": {
    "collapsed": false
   },
   "outputs": [
    {
     "name": "stdout",
     "output_type": "stream",
     "text": [
      "Rated 4 for Toy Story (1995) \n",
      "Rated 3 for Twelve Monkeys (1995) \n",
      "Rated 5 for Usual Suspects, The (1995) \n",
      "Rated 4 for Outbreak (1995) \n",
      "Rated 5 for Shawshank Redemption, The (1994) \n",
      "Rated 3 for While You Were Sleeping (1995) \n",
      "Rated 5 for Forrest Gump (1994) \n",
      "Rated 2 for Silence of the Lambs, The (1991) \n",
      "Rated 4 for Alien (1979) \n",
      "Rated 5 for Die Hard 2 (1990) \n",
      "Rated 5 for Sphere (1998) \n"
     ]
    }
   ],
   "source": [
    "my_ratings = np.zeros((nm, 1))\n",
    "my_ratings[0] = 4\n",
    "my_ratings[97] = 2\n",
    "my_ratings[6] = 3\n",
    "my_ratings[11]= 5\n",
    "my_ratings[53] = 4\n",
    "my_ratings[63]= 5\n",
    "my_ratings[65]= 3\n",
    "my_ratings[68] = 5\n",
    "my_ratings[182] = 4\n",
    "my_ratings[225] = 5\n",
    "my_ratings[354]= 5\n",
    "for i in range(nm):\n",
    "    if my_ratings[i]>0:\n",
    "        print(\"Rated %d for %s\" %(my_ratings[i],movieList[i]))"
   ]
  },
  {
   "cell_type": "code",
   "execution_count": 13,
   "metadata": {
    "collapsed": false
   },
   "outputs": [
    {
     "name": "stdout",
     "output_type": "stream",
     "text": [
      "(1682, 943) (1682, 943)\n"
     ]
    }
   ],
   "source": [
    "data3 = sio.loadmat('ex8_movies.mat')\n",
    "R3 = data3['R']\n",
    "Y3 = data3['Y']\n",
    "print(R3.shape, Y3.shape)"
   ]
  },
  {
   "cell_type": "code",
   "execution_count": 14,
   "metadata": {
    "collapsed": false
   },
   "outputs": [
    {
     "name": "stdout",
     "output_type": "stream",
     "text": [
      "(1682, 944) (1682, 944)\n"
     ]
    }
   ],
   "source": [
    "Ymy = np.c_[(my_ratings,Y3)]\n",
    "Rmy = np.c_[(my_ratings!=0,R3)]\n",
    "print(Ymy.shape, Rmy.shape)"
   ]
  },
  {
   "cell_type": "code",
   "execution_count": 15,
   "metadata": {
    "collapsed": false
   },
   "outputs": [
    {
     "name": "stdout",
     "output_type": "stream",
     "text": [
      "(1682, 944) (1682, 1)\n"
     ]
    }
   ],
   "source": [
    "def norm(Y, R):\n",
    "    m, n = Y.shape\n",
    "    Ymean = np.zeros((m, 1))\n",
    "    Ynorm = np.zeros(Y.shape)\n",
    "    for i in range(m):\n",
    "        idx = np.where(R[i:i+1, :]==1)\n",
    "        Ymean[i:i+1, :] = Y[idx].mean()\n",
    "        Ynorm[i:i+1, :] = Y[i:i+1, :]-Ymean[i:i+1, :]\n",
    "    return Ynorm, Ymean\n",
    "Ynorm, Ymean = norm(Ymy, Rmy)\n",
    "print(Ynorm.shape, Ymean.shape)"
   ]
  },
  {
   "cell_type": "code",
   "execution_count": 16,
   "metadata": {
    "collapsed": true
   },
   "outputs": [],
   "source": [
    "nf3 = 10\n",
    "nm3, nu3 = Ynorm.shape\n"
   ]
  },
  {
   "cell_type": "code",
   "execution_count": 42,
   "metadata": {
    "collapsed": false
   },
   "outputs": [
    {
     "name": "stdout",
     "output_type": "stream",
     "text": [
      "Warning: Maximum number of iterations has been exceeded.\n",
      "         Current function value: 30112.348192\n",
      "         Iterations: 100\n",
      "         Function evaluations: 155\n",
      "         Gradient evaluations: 155\n",
      "[-0.23747808  0.25336628  0.03190838 ...,  0.79804325 -1.13657142\n",
      " -1.1108632 ]\n"
     ]
    }
   ],
   "source": [
    "X3 = np.random.randn(nm3, nf3)\n",
    "theta3 = np.random.randn(nu3, nf3)\n",
    "import scipy.optimize as op\n",
    "lamda = 1.5\n",
    "movie_params = op.fmin_cg(f=computeCost, fprime=computeGrad, x0=np.r_[X3.flatten(), theta3.flatten()], \n",
    "          args=(Ynorm, Rmy, lamda, nf3, nu3, nm3), maxiter=100)#, retall=True)\n",
    "print(movie_params)"
   ]
  },
  {
   "cell_type": "code",
   "execution_count": 43,
   "metadata": {
    "collapsed": false
   },
   "outputs": [],
   "source": [
    "bestX = movie_params[:nm3*nf3].reshape(nm3, nf3)\n",
    "bestTheta = movie_params[nm3*nf3:].reshape(nu3, nf3)"
   ]
  },
  {
   "cell_type": "code",
   "execution_count": 44,
   "metadata": {
    "collapsed": false
   },
   "outputs": [
    {
     "name": "stdout",
     "output_type": "stream",
     "text": [
      "(1682, 944)\n",
      "[ 3.86314788  3.19597245  4.00315497  3.85730101  3.19329557]\n",
      "favorite 1 score is 5,for:Bye Bye, Love (1995) \n",
      "favorite 2 score is 5,for:Higher Learning (1995) \n",
      "favorite 3 score is 4,for:Witness (1985) \n",
      "favorite 4 score is 4,for:Fifth Element, The (1997) \n",
      "favorite 5 score is 4,for:Nobody Loves Me (Keiner liebt mich) (1994) \n",
      "favorite 6 score is 4,for:I Don't Want to Talk About It (De eso no se habla) (1993) \n",
      "favorite 7 score is 4,for:Return of the Jedi (1983) \n",
      "favorite 8 score is 4,for:Star Wars (1977) \n",
      "favorite 9 score is 4,for:Mad Dog Time (1996) \n",
      "favorite 10 score is 4,for:Everest (1998) \n"
     ]
    }
   ],
   "source": [
    "score = bestX.dot(bestTheta.T) + Ymean\n",
    "#只有第一行是新用户的分数\n",
    "my_score = score[:,0]  #line 1 is my scoce\n",
    "print(score.shape)\n",
    "print(my_score[:5])\n",
    "#排序，推荐最高的分数的电影给新用户\n",
    "sort_index = my_score.argsort()\n",
    "favorite = 10\n",
    "for i in range(favorite):\n",
    "    print(\"favorite %d score is %d,for:%s\" \\\n",
    "          %(i+1,my_score[sort_index[-(i+1)]],movieList[sort_index[-(i+1)]]))"
   ]
  },
  {
   "cell_type": "code",
   "execution_count": null,
   "metadata": {
    "collapsed": false
   },
   "outputs": [],
   "source": []
  },
  {
   "cell_type": "code",
   "execution_count": null,
   "metadata": {
    "collapsed": false
   },
   "outputs": [],
   "source": []
  },
  {
   "cell_type": "code",
   "execution_count": null,
   "metadata": {
    "collapsed": true
   },
   "outputs": [],
   "source": []
  }
 ],
 "metadata": {
  "kernelspec": {
   "display_name": "Python [conda root]",
   "language": "python",
   "name": "conda-root-py"
  }
 },
 "nbformat": 4,
 "nbformat_minor": 1
}
